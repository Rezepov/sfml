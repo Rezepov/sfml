{
 "cells": [
  {
   "cell_type": "code",
   "execution_count": null,
   "metadata": {},
   "outputs": [],
   "source": [
    "### Оставил только итоговый код без промежуточных результатов и итоговый расчёт ROC AUC"
   ]
  },
  {
   "cell_type": "code",
   "execution_count": 51,
   "metadata": {},
   "outputs": [],
   "source": [
    "import pandas as pd\n",
    "import numpy as np\n",
    "import matplotlib.pyplot as plt\n",
    "import pymorphy2 # Морфологический анализатор.\n",
    "from bs4 import BeautifulSoup # Превращалка html в текст.\n",
    "import re # Регулярные выражения.\n",
    "from collections import Counter # Не считать же частоты самим.\n",
    "import math # Корень квадратный.\n",
    "from sklearn.linear_model import LogisticRegression\n",
    "from sklearn.cross_validation import train_test_split\n",
    "from sklearn.cross_validation import cross_val_score\n",
    "from sklearn.metrics import roc_auc_score, roc_curve\n",
    "import pickle\n",
    "import operator\n",
    "%matplotlib inline\n",
    "\n",
    "plt.style.use('ggplot')\n",
    "plt.rcParams['figure.figsize'] = (12,5)"
   ]
  },
  {
   "cell_type": "code",
   "execution_count": 3,
   "metadata": {},
   "outputs": [],
   "source": [
    "class Vacancys:\n",
    "        \n",
    "    # Конструктор - вызывается при создании объекта и инициализирует его.\n",
    "    def __init__(self):\n",
    "        self.desc=[]     # Описание вакансии.\n",
    "        self.names=[]       # Название вакансии.\n",
    "        self.dictionaries=[] # Словари для каждой вакансии.\n",
    "        self.IDs =[] # Айдишники вакансий\n",
    "        # Создаем и загружаем морфологический словарь.\n",
    "        self.morph=pymorphy2.MorphAnalyzer()\n",
    "\n",
    "    # Загрузка вакансий из датафрейма.\n",
    "    def getVac (self, df):\n",
    "        for i in range (0,df.shape[0]):\n",
    "            self.names.append(df.loc[i,'name'])\n",
    "            self.IDs.append(df.loc[i,'id'])\n",
    "            self.desc.append(BeautifulSoup(df.loc[i,'description'], \"html5lib\").get_text())\n",
    "            \n",
    "\n",
    "    # Потроение вектора для вакансии.\n",
    "    posConv={'ADJF':'_ADJ','NOUN':'_NOUN','VERB':'_VERB'}\n",
    "    def getDictionary(self, text, needPos=None):\n",
    "        words=[a[0] for a in re.findall(\"([А-ЯЁа-яё]+(-[А-ЯЁа-яё]+)*)\", text)]\n",
    "        reswords=[]\n",
    "    \n",
    "        for w in words:\n",
    "            wordform=self.morph.parse(w)[0]\n",
    "            try:\n",
    "                if wordform.tag.POS in ['ADJF', 'NOUN', 'VERB']: # если результат находится в значимых частях речи\n",
    "                    if needPos!=None:\n",
    "                        reswords.append(wordform.normal_form+self.posConv[wordform.tag.POS]) #склей начальную форму с\n",
    "                    else:\n",
    "                        reswords.append(wordform.normal_form)# или просто возьми начальнуб форму\n",
    "            except:\n",
    "                pass\n",
    "            \n",
    "        stat=Counter(reswords)\n",
    "        # фильтр по частоте\n",
    "        # stat={a: stat[a] for a in stat.keys() if stat[a]>1}\n",
    "        return stat\n",
    "    # Посчитаем вектора для всех вакансий.\n",
    "    def calcDictionaries(self, needPos=None):\n",
    "        self.dictionaries=[]\n",
    "        for a in self.desc:\n",
    "            self.dictionaries.append(self.getDictionary(a, needPos))\n",
    "    # Поиск вакансии по названию.\n",
    "    def findVacById (self, id):\n",
    "        if id in self.IDs:\n",
    "            return self.IDs.index(id)\n",
    "        else:\n",
    "            return -1\n",
    "# Косинусная мера\n",
    "def cosineSimilarity(a, b):\n",
    "    if len(a.keys())==0 or len(b.keys())==0:\n",
    "        return 0\n",
    "    sumab=sum([a[na]*b[na] for na in a.keys() if na in b.keys()])\n",
    "    suma2=sum([a[na]*a[na] for na in a.keys()])\n",
    "    sumb2=sum([b[nb]*b[nb] for nb in b.keys()])\n",
    "    return sumab/math.sqrt(suma2*sumb2)\n",
    "\n",
    "#Функция подготовки массива\n",
    "def vac_prepare (dfr):\n",
    "    # Убираем теги.\n",
    "    for i in range (0,dfr.shape[0]):\n",
    "        dfr.loc[i,'description'] = BeautifulSoup(dfr.loc[i,'description'], \"html5lib\").get_text()\n",
    "    # В текст вакансии добавляем её название, чтобы попало в словарь\n",
    "    dfr.loc[:,'name']  = dfr.loc[:,'name'].add('. ')\n",
    "    dfr.loc[:,'description']  = dfr.loc[:,'name'].add(dfr.loc[:,'description'])\n",
    "    return dfr"
   ]
  },
  {
   "cell_type": "code",
   "execution_count": null,
   "metadata": {},
   "outputs": [],
   "source": [
    "#==============ИТОГОВЫЙ КОД===================\n",
    "    # 1. Считаем словарь для каждой вакансии\n",
    "df = pd.read_csv('train.csv', sep='\\t', encoding='utf8')\n",
    "df = vac_prepare (df) # Подготовка массива: к тексту вакансии добавляем её название (чтобы учесть в словаре) и убираем теги\n",
    "Vac = Vacancys()\n",
    "Vac.getVac(df) # Загружаем вакансии \n",
    "Vac.calcDictionaries() # Считаем словари\n",
    "\n",
    "    # 2. Для обучения будем использовать косинусную меру каждой вакансии к тренировочному словарю\n",
    "    #  Тренировочным словарём будем считать ТОП-100 по частотам из словаря равного разности частот общего словаря интересных выкансий и общего словаря неинтересных вакансий \n",
    "    \n",
    "    #Считаем общий словарь интересных вакансий\n",
    "TargetVac = df.loc[df['target'] == 1, 'id']\n",
    "TargetVacText=' '.join([Vac.desc[Vac.findVacById(id)] for id in TargetVac]) #Складываем тексты\n",
    "TargetVacDict=Vac.getDictionary(TargetVacText)\n",
    "    #Считаем словарь неинтересных вакансий\n",
    "NonTargetVac = df.loc[df['target'] == 0, 'id']\n",
    "NonTargetVacText=' '.join([Vac.desc[Vac.findVacById(id)] for id in NonTargetVac]) \n",
    "NonTargetVacDict=Vac.getDictionary(NonTargetVacText)\n",
    "#Сохраняем всё в файлы\n",
    "file = open('TargetVacDict.dmp','wb')\n",
    "pickle.dump(TargetVacDict,file)\n",
    "file.close()\n",
    "file = open('NonTargetVacDict.dmp','wb')\n",
    "pickle.dump(NonTargetVacDict,file)\n",
    "file.close()\n",
    "file = open('Vac.dmp','wb')\n",
    "pickle.dump(Vac,file)\n",
    "file.close()\n",
    "\n",
    "    #Тренировочный словарь: вычитаем из интересного словаря неинтересный\n",
    "TrainVacDict = TargetVacDict \n",
    "for i in TargetVacDict.keys():\n",
    "    if i in NonTargetVacDict.keys():\n",
    "        TrainVacDict[i] = TargetVacDict[i] - NonTargetVacDict[i]*0.88 # Коэффициент по отношению количества интересных/неинтерсных вакансий\n",
    "    # Сортировка словаря по частоте\n",
    "sortVacDict = sorted(TrainVacDict.items(), key =operator.itemgetter(1), reverse = True)\n",
    "    # Удаляем в тренировочном словаре слова не из ТОП-100\n",
    "for i in range (100,len(sortVacDict)):\n",
    "    del TrainVacDict[sortVacDict[i][0]]\n",
    "    # Считаем косинусную меру всех вакансий с тренировочным словарём и добавляем как признак в исходный массив   \n",
    "for i in df['id']:\n",
    "    df.loc[df['id']==i,'cos_100'] = cosineSimilarity(TrainVacDict, Vac.dictionaries[Vac.findVacById(i)])\n",
    "#Сохраняем df с признаками\n",
    "df.to_csv('df_train_100_new.csv', sep = '\\t', encoding = 'utf-8')"
   ]
  },
  {
   "cell_type": "code",
   "execution_count": 47,
   "metadata": {},
   "outputs": [
    {
     "name": "stdout",
     "output_type": "stream",
     "text": [
      "0.8149013796557192\n"
     ]
    },
    {
     "data": {
      "image/png": "[encoded data removed]",
      "text/plain": [
       "<Figure size 360x360 with 1 Axes>"
      ]
     },
     "metadata": {},
     "output_type": "display_data"
    }
   ],
   "source": [
    "# Загружаем фрейм с признаком косинусной меры\n",
    "df = pd.read_csv('df_train_100_new.csv', sep='\\t', encoding='utf8')    \n",
    "\n",
    "    # 3. Обучим линейную регерссию\n",
    "X = df.drop(['target', 'name', 'description'], axis=1)\n",
    "y = df['target']\n",
    "X_train, X_test, y_train, y_test = train_test_split(X, y, test_size=0.33, random_state=42)\n",
    "LR = LogisticRegression()\n",
    "LR.fit(X_train, y_train)\n",
    "predict_LR = LR.predict(X_test)\n",
    "\n",
    "    # 4. Считаем ROC AUC\n",
    "plt.figure(figsize=(5, 5))\n",
    "plt.ylabel('tpr')\n",
    "plt.xlabel('fpr')\n",
    "plt.grid(True)\n",
    "plt.title('ROC curve')\n",
    "plt.xlim((-0.01, 1.01))\n",
    "plt.ylim((-0.01, 1.01))\n",
    "predict_proba = LR.predict_proba(X_test)\n",
    "fpr, tpr, thresholds = roc_curve(y_test, predict_proba[:,1])\n",
    "plt.plot(fpr, tpr, color='blue')\n",
    "plt.plot([0, 1], [0, 1])\n",
    "print (roc_auc_score(y_test, predict_proba[:,1]))"
   ]
  },
  {
   "cell_type": "code",
   "execution_count": 52,
   "metadata": {},
   "outputs": [
    {
     "data": {
      "text/plain": [
       "0.8154244515810873"
      ]
     },
     "execution_count": 52,
     "metadata": {},
     "output_type": "execute_result"
    }
   ],
   "source": [
    "cross_val_score(LR, X_test, y_test, scoring='roc_auc', cv=10).mean()"
   ]
  },
  {
   "cell_type": "code",
   "execution_count": null,
   "metadata": {},
   "outputs": [],
   "source": []
  }
 ],
 "metadata": {
  "kernelspec": {
   "display_name": "Python 3",
   "language": "python",
   "name": "python3"
  },
  "language_info": {
   "codemirror_mode": {
    "name": "ipython",
    "version": 3
   },
   "file_extension": ".py",
   "mimetype": "text/x-python",
   "name": "python",
   "nbconvert_exporter": "python",
   "pygments_lexer": "ipython3",
   "version": "3.6.5"
  }
 },
 "nbformat": 4,
 "nbformat_minor": 2
}
